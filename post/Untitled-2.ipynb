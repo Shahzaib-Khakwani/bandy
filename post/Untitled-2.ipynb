{
 "cells": [
  {
   "cell_type": "code",
   "execution_count": null,
   "metadata": {},
   "outputs": [],
   "source": [
    "class UserDetailView(APIView):\n",
    "    permission_classes = [IsAuthenticated]\n",
    "    def get(self, request, *args, **kwargs):\n",
    "        user_id = kwargs.get('user_id', None)\n",
    "        if user_id:\n",
    "            try:\n",
    "                user = CustomUser.objects.get(id=user_id)\n",
    "            except CustomUser.DoesNotExist:\n",
    "                return Response({\n",
    "                    'success': False,\n",
    "                    'error': 'User not found.'\n",
    "                }, status=status.HTTP_404_NOT_FOUND)\n",
    "        else:\n",
    "            user = request.user\n",
    "        if not user:\n",
    "            return Response({\n",
    "                'success': False,\n",
    "                'error': 'User not found.'\n",
    "            }, status=status.HTTP_404_NOT_FOUND)\n",
    "        try:\n",
    "            serializer = CustomUserSerializer(user)\n",
    "            return Response({\n",
    "                'success': True,\n",
    "                'data': serializer.data\n",
    "            }, status=status.HTTP_200_OK)\n",
    "        except Exception as e:\n",
    "            return Response({\n",
    "                'success': False,\n",
    "                'error': str(e)\n",
    "            }, status=status.HTTP_500_INTERNAL_SERVER_ERROR)\n",
    "\n"
   ]
  }
 ],
 "metadata": {
  "language_info": {
   "name": "python"
  }
 },
 "nbformat": 4,
 "nbformat_minor": 2
}
